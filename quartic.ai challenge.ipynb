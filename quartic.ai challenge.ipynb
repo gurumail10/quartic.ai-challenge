{
 "cells": [
  {
   "cell_type": "code",
   "execution_count": 1,
   "metadata": {},
   "outputs": [],
   "source": [
    "import pandas as pd\n",
    "import numpy as np\n"
   ]
  },
  {
   "cell_type": "code",
   "execution_count": 269,
   "metadata": {},
   "outputs": [],
   "source": [
    "train=pd.read_csv(\"data_train.csv\",delimiter=\",\")"
   ]
  },
  {
   "cell_type": "code",
   "execution_count": 270,
   "metadata": {},
   "outputs": [],
   "source": [
    "train_data=train"
   ]
  },
  {
   "cell_type": "code",
   "execution_count": 271,
   "metadata": {},
   "outputs": [
    {
     "data": {
      "text/plain": [
       "(596000, 58)"
      ]
     },
     "execution_count": 271,
     "metadata": {},
     "output_type": "execute_result"
    }
   ],
   "source": [
    "train_data.shape"
   ]
  },
  {
   "cell_type": "code",
   "execution_count": 273,
   "metadata": {},
   "outputs": [
    {
     "data": {
      "text/html": [
       "<div>\n",
       "<style scoped>\n",
       "    .dataframe tbody tr th:only-of-type {\n",
       "        vertical-align: middle;\n",
       "    }\n",
       "\n",
       "    .dataframe tbody tr th {\n",
       "        vertical-align: top;\n",
       "    }\n",
       "\n",
       "    .dataframe thead th {\n",
       "        text-align: right;\n",
       "    }\n",
       "</style>\n",
       "<table border=\"1\" class=\"dataframe\">\n",
       "  <thead>\n",
       "    <tr style=\"text-align: right;\">\n",
       "      <th></th>\n",
       "      <th>id</th>\n",
       "      <th>num1</th>\n",
       "      <th>num2</th>\n",
       "      <th>num3</th>\n",
       "      <th>num4</th>\n",
       "      <th>num5</th>\n",
       "      <th>num6</th>\n",
       "      <th>num7</th>\n",
       "      <th>num8</th>\n",
       "      <th>num9</th>\n",
       "      <th>...</th>\n",
       "      <th>cat6</th>\n",
       "      <th>cat7</th>\n",
       "      <th>cat8</th>\n",
       "      <th>cat9</th>\n",
       "      <th>cat10</th>\n",
       "      <th>cat11</th>\n",
       "      <th>cat12</th>\n",
       "      <th>cat13</th>\n",
       "      <th>cat14</th>\n",
       "      <th>target</th>\n",
       "    </tr>\n",
       "  </thead>\n",
       "  <tbody>\n",
       "    <tr>\n",
       "      <th>count</th>\n",
       "      <td>596000.000000</td>\n",
       "      <td>596000.000000</td>\n",
       "      <td>596000.000000</td>\n",
       "      <td>596000.000000</td>\n",
       "      <td>596000.000000</td>\n",
       "      <td>596000.000000</td>\n",
       "      <td>596000.000000</td>\n",
       "      <td>596000.000000</td>\n",
       "      <td>596000.000000</td>\n",
       "      <td>596000.000000</td>\n",
       "      <td>...</td>\n",
       "      <td>184208.000000</td>\n",
       "      <td>596000.000000</td>\n",
       "      <td>329072.000000</td>\n",
       "      <td>596000.000000</td>\n",
       "      <td>584497.000000</td>\n",
       "      <td>596000.000000</td>\n",
       "      <td>595430.000000</td>\n",
       "      <td>596000.000000</td>\n",
       "      <td>596000.000000</td>\n",
       "      <td>596000.000000</td>\n",
       "    </tr>\n",
       "    <tr>\n",
       "      <th>mean</th>\n",
       "      <td>297999.500000</td>\n",
       "      <td>1.900423</td>\n",
       "      <td>4.423356</td>\n",
       "      <td>0.393743</td>\n",
       "      <td>0.257015</td>\n",
       "      <td>0.163933</td>\n",
       "      <td>0.185309</td>\n",
       "      <td>0.000374</td>\n",
       "      <td>0.001693</td>\n",
       "      <td>0.009435</td>\n",
       "      <td>...</td>\n",
       "      <td>0.601744</td>\n",
       "      <td>0.725106</td>\n",
       "      <td>0.525365</td>\n",
       "      <td>6.555000</td>\n",
       "      <td>0.947608</td>\n",
       "      <td>0.832077</td>\n",
       "      <td>1.331161</td>\n",
       "      <td>0.992136</td>\n",
       "      <td>62.215570</td>\n",
       "      <td>0.036436</td>\n",
       "    </tr>\n",
       "    <tr>\n",
       "      <th>std</th>\n",
       "      <td>172050.524555</td>\n",
       "      <td>1.983855</td>\n",
       "      <td>2.699861</td>\n",
       "      <td>0.488579</td>\n",
       "      <td>0.436988</td>\n",
       "      <td>0.370215</td>\n",
       "      <td>0.388548</td>\n",
       "      <td>0.019340</td>\n",
       "      <td>0.041111</td>\n",
       "      <td>0.096672</td>\n",
       "      <td>...</td>\n",
       "      <td>0.489540</td>\n",
       "      <td>2.153319</td>\n",
       "      <td>0.499357</td>\n",
       "      <td>5.501419</td>\n",
       "      <td>0.222817</td>\n",
       "      <td>0.373798</td>\n",
       "      <td>0.976544</td>\n",
       "      <td>0.091613</td>\n",
       "      <td>33.012105</td>\n",
       "      <td>0.187373</td>\n",
       "    </tr>\n",
       "    <tr>\n",
       "      <th>min</th>\n",
       "      <td>0.000000</td>\n",
       "      <td>0.000000</td>\n",
       "      <td>0.000000</td>\n",
       "      <td>0.000000</td>\n",
       "      <td>0.000000</td>\n",
       "      <td>0.000000</td>\n",
       "      <td>0.000000</td>\n",
       "      <td>0.000000</td>\n",
       "      <td>0.000000</td>\n",
       "      <td>0.000000</td>\n",
       "      <td>...</td>\n",
       "      <td>0.000000</td>\n",
       "      <td>0.000000</td>\n",
       "      <td>0.000000</td>\n",
       "      <td>0.000000</td>\n",
       "      <td>0.000000</td>\n",
       "      <td>0.000000</td>\n",
       "      <td>0.000000</td>\n",
       "      <td>0.000000</td>\n",
       "      <td>1.000000</td>\n",
       "      <td>0.000000</td>\n",
       "    </tr>\n",
       "    <tr>\n",
       "      <th>25%</th>\n",
       "      <td>148999.750000</td>\n",
       "      <td>0.000000</td>\n",
       "      <td>2.000000</td>\n",
       "      <td>0.000000</td>\n",
       "      <td>0.000000</td>\n",
       "      <td>0.000000</td>\n",
       "      <td>0.000000</td>\n",
       "      <td>0.000000</td>\n",
       "      <td>0.000000</td>\n",
       "      <td>0.000000</td>\n",
       "      <td>...</td>\n",
       "      <td>0.000000</td>\n",
       "      <td>0.000000</td>\n",
       "      <td>0.000000</td>\n",
       "      <td>1.000000</td>\n",
       "      <td>1.000000</td>\n",
       "      <td>1.000000</td>\n",
       "      <td>0.000000</td>\n",
       "      <td>1.000000</td>\n",
       "      <td>32.000000</td>\n",
       "      <td>0.000000</td>\n",
       "    </tr>\n",
       "    <tr>\n",
       "      <th>50%</th>\n",
       "      <td>297999.500000</td>\n",
       "      <td>1.000000</td>\n",
       "      <td>4.000000</td>\n",
       "      <td>0.000000</td>\n",
       "      <td>0.000000</td>\n",
       "      <td>0.000000</td>\n",
       "      <td>0.000000</td>\n",
       "      <td>0.000000</td>\n",
       "      <td>0.000000</td>\n",
       "      <td>0.000000</td>\n",
       "      <td>...</td>\n",
       "      <td>1.000000</td>\n",
       "      <td>0.000000</td>\n",
       "      <td>1.000000</td>\n",
       "      <td>7.000000</td>\n",
       "      <td>1.000000</td>\n",
       "      <td>1.000000</td>\n",
       "      <td>2.000000</td>\n",
       "      <td>1.000000</td>\n",
       "      <td>65.000000</td>\n",
       "      <td>0.000000</td>\n",
       "    </tr>\n",
       "    <tr>\n",
       "      <th>75%</th>\n",
       "      <td>446999.250000</td>\n",
       "      <td>3.000000</td>\n",
       "      <td>6.000000</td>\n",
       "      <td>1.000000</td>\n",
       "      <td>1.000000</td>\n",
       "      <td>0.000000</td>\n",
       "      <td>0.000000</td>\n",
       "      <td>0.000000</td>\n",
       "      <td>0.000000</td>\n",
       "      <td>0.000000</td>\n",
       "      <td>...</td>\n",
       "      <td>1.000000</td>\n",
       "      <td>0.000000</td>\n",
       "      <td>1.000000</td>\n",
       "      <td>11.000000</td>\n",
       "      <td>1.000000</td>\n",
       "      <td>1.000000</td>\n",
       "      <td>2.000000</td>\n",
       "      <td>1.000000</td>\n",
       "      <td>93.000000</td>\n",
       "      <td>0.000000</td>\n",
       "    </tr>\n",
       "    <tr>\n",
       "      <th>max</th>\n",
       "      <td>595999.000000</td>\n",
       "      <td>7.000000</td>\n",
       "      <td>11.000000</td>\n",
       "      <td>1.000000</td>\n",
       "      <td>1.000000</td>\n",
       "      <td>1.000000</td>\n",
       "      <td>1.000000</td>\n",
       "      <td>1.000000</td>\n",
       "      <td>1.000000</td>\n",
       "      <td>1.000000</td>\n",
       "      <td>...</td>\n",
       "      <td>1.000000</td>\n",
       "      <td>9.000000</td>\n",
       "      <td>1.000000</td>\n",
       "      <td>17.000000</td>\n",
       "      <td>1.000000</td>\n",
       "      <td>1.000000</td>\n",
       "      <td>4.000000</td>\n",
       "      <td>2.000000</td>\n",
       "      <td>104.000000</td>\n",
       "      <td>1.000000</td>\n",
       "    </tr>\n",
       "  </tbody>\n",
       "</table>\n",
       "<p>8 rows × 58 columns</p>\n",
       "</div>"
      ],
      "text/plain": [
       "                  id           num1           num2           num3  \\\n",
       "count  596000.000000  596000.000000  596000.000000  596000.000000   \n",
       "mean   297999.500000       1.900423       4.423356       0.393743   \n",
       "std    172050.524555       1.983855       2.699861       0.488579   \n",
       "min         0.000000       0.000000       0.000000       0.000000   \n",
       "25%    148999.750000       0.000000       2.000000       0.000000   \n",
       "50%    297999.500000       1.000000       4.000000       0.000000   \n",
       "75%    446999.250000       3.000000       6.000000       1.000000   \n",
       "max    595999.000000       7.000000      11.000000       1.000000   \n",
       "\n",
       "                num4           num5           num6           num7  \\\n",
       "count  596000.000000  596000.000000  596000.000000  596000.000000   \n",
       "mean        0.257015       0.163933       0.185309       0.000374   \n",
       "std         0.436988       0.370215       0.388548       0.019340   \n",
       "min         0.000000       0.000000       0.000000       0.000000   \n",
       "25%         0.000000       0.000000       0.000000       0.000000   \n",
       "50%         0.000000       0.000000       0.000000       0.000000   \n",
       "75%         1.000000       0.000000       0.000000       0.000000   \n",
       "max         1.000000       1.000000       1.000000       1.000000   \n",
       "\n",
       "                num8           num9      ...                 cat6  \\\n",
       "count  596000.000000  596000.000000      ...        184208.000000   \n",
       "mean        0.001693       0.009435      ...             0.601744   \n",
       "std         0.041111       0.096672      ...             0.489540   \n",
       "min         0.000000       0.000000      ...             0.000000   \n",
       "25%         0.000000       0.000000      ...             0.000000   \n",
       "50%         0.000000       0.000000      ...             1.000000   \n",
       "75%         0.000000       0.000000      ...             1.000000   \n",
       "max         1.000000       1.000000      ...             1.000000   \n",
       "\n",
       "                cat7           cat8           cat9          cat10  \\\n",
       "count  596000.000000  329072.000000  596000.000000  584497.000000   \n",
       "mean        0.725106       0.525365       6.555000       0.947608   \n",
       "std         2.153319       0.499357       5.501419       0.222817   \n",
       "min         0.000000       0.000000       0.000000       0.000000   \n",
       "25%         0.000000       0.000000       1.000000       1.000000   \n",
       "50%         0.000000       1.000000       7.000000       1.000000   \n",
       "75%         0.000000       1.000000      11.000000       1.000000   \n",
       "max         9.000000       1.000000      17.000000       1.000000   \n",
       "\n",
       "               cat11          cat12          cat13          cat14  \\\n",
       "count  596000.000000  595430.000000  596000.000000  596000.000000   \n",
       "mean        0.832077       1.331161       0.992136      62.215570   \n",
       "std         0.373798       0.976544       0.091613      33.012105   \n",
       "min         0.000000       0.000000       0.000000       1.000000   \n",
       "25%         1.000000       0.000000       1.000000      32.000000   \n",
       "50%         1.000000       2.000000       1.000000      65.000000   \n",
       "75%         1.000000       2.000000       1.000000      93.000000   \n",
       "max         1.000000       4.000000       2.000000     104.000000   \n",
       "\n",
       "              target  \n",
       "count  596000.000000  \n",
       "mean        0.036436  \n",
       "std         0.187373  \n",
       "min         0.000000  \n",
       "25%         0.000000  \n",
       "50%         0.000000  \n",
       "75%         0.000000  \n",
       "max         1.000000  \n",
       "\n",
       "[8 rows x 58 columns]"
      ]
     },
     "execution_count": 273,
     "metadata": {},
     "output_type": "execute_result"
    }
   ],
   "source": [
    "train_data.describe()"
   ]
  },
  {
   "cell_type": "code",
   "execution_count": null,
   "metadata": {},
   "outputs": [],
   "source": []
  },
  {
   "cell_type": "markdown",
   "metadata": {},
   "source": [
    "# filling null entries of training data\n",
    "all null entries is filled with the mean of corresponding feature"
   ]
  },
  {
   "cell_type": "code",
   "execution_count": 275,
   "metadata": {},
   "outputs": [],
   "source": [
    "for i in range(58):\n",
    "    current_mean=train_data.iloc[:,i].mean()\n",
    "    train_data.iloc[:,i].fillna(current_mean,inplace=True)\n"
   ]
  },
  {
   "cell_type": "code",
   "execution_count": 276,
   "metadata": {},
   "outputs": [
    {
     "data": {
      "text/plain": [
       "id        0\n",
       "num1      0\n",
       "num2      0\n",
       "num3      0\n",
       "num4      0\n",
       "num5      0\n",
       "num6      0\n",
       "num7      0\n",
       "num8      0\n",
       "num9      0\n",
       "num10     0\n",
       "num11     0\n",
       "num12     0\n",
       "num13     0\n",
       "num14     0\n",
       "num15     0\n",
       "num16     0\n",
       "num17     0\n",
       "num18     0\n",
       "num19     0\n",
       "num20     0\n",
       "num21     0\n",
       "num22     0\n",
       "num23     0\n",
       "der1      0\n",
       "der2      0\n",
       "der3      0\n",
       "der4      0\n",
       "der5      0\n",
       "der6      0\n",
       "der7      0\n",
       "der8      0\n",
       "der9      0\n",
       "der10     0\n",
       "der11     0\n",
       "der12     0\n",
       "der13     0\n",
       "der14     0\n",
       "der15     0\n",
       "der16     0\n",
       "der17     0\n",
       "der18     0\n",
       "der19     0\n",
       "cat1      0\n",
       "cat2      0\n",
       "cat3      0\n",
       "cat4      0\n",
       "cat5      0\n",
       "cat6      0\n",
       "cat7      0\n",
       "cat8      0\n",
       "cat9      0\n",
       "cat10     0\n",
       "cat11     0\n",
       "cat12     0\n",
       "cat13     0\n",
       "cat14     0\n",
       "target    0\n",
       "dtype: int64"
      ]
     },
     "execution_count": 276,
     "metadata": {},
     "output_type": "execute_result"
    }
   ],
   "source": [
    "train_data.isnull().sum()"
   ]
  },
  {
   "cell_type": "code",
   "execution_count": 335,
   "metadata": {},
   "outputs": [],
   "source": [
    "#--remove first row because most of the entries are null\n",
    "\n",
    "train_data=train_data.iloc[1:,:]"
   ]
  },
  {
   "cell_type": "code",
   "execution_count": 278,
   "metadata": {},
   "outputs": [
    {
     "data": {
      "text/plain": [
       "(595999, 58)"
      ]
     },
     "execution_count": 278,
     "metadata": {},
     "output_type": "execute_result"
    }
   ],
   "source": [
    "train_data.shape"
   ]
  },
  {
   "cell_type": "code",
   "execution_count": 280,
   "metadata": {},
   "outputs": [
    {
     "data": {
      "text/html": [
       "<div>\n",
       "<style scoped>\n",
       "    .dataframe tbody tr th:only-of-type {\n",
       "        vertical-align: middle;\n",
       "    }\n",
       "\n",
       "    .dataframe tbody tr th {\n",
       "        vertical-align: top;\n",
       "    }\n",
       "\n",
       "    .dataframe thead th {\n",
       "        text-align: right;\n",
       "    }\n",
       "</style>\n",
       "<table border=\"1\" class=\"dataframe\">\n",
       "  <thead>\n",
       "    <tr style=\"text-align: right;\">\n",
       "      <th></th>\n",
       "      <th>id</th>\n",
       "      <th>num1</th>\n",
       "      <th>num2</th>\n",
       "      <th>num3</th>\n",
       "      <th>num4</th>\n",
       "      <th>num5</th>\n",
       "      <th>num6</th>\n",
       "      <th>num7</th>\n",
       "      <th>num8</th>\n",
       "      <th>num9</th>\n",
       "      <th>...</th>\n",
       "      <th>cat6</th>\n",
       "      <th>cat7</th>\n",
       "      <th>cat8</th>\n",
       "      <th>cat9</th>\n",
       "      <th>cat10</th>\n",
       "      <th>cat11</th>\n",
       "      <th>cat12</th>\n",
       "      <th>cat13</th>\n",
       "      <th>cat14</th>\n",
       "      <th>target</th>\n",
       "    </tr>\n",
       "  </thead>\n",
       "  <tbody>\n",
       "    <tr>\n",
       "      <th>1</th>\n",
       "      <td>1</td>\n",
       "      <td>1</td>\n",
       "      <td>7</td>\n",
       "      <td>0</td>\n",
       "      <td>0</td>\n",
       "      <td>1</td>\n",
       "      <td>0</td>\n",
       "      <td>0</td>\n",
       "      <td>0</td>\n",
       "      <td>0</td>\n",
       "      <td>...</td>\n",
       "      <td>0.601744</td>\n",
       "      <td>0</td>\n",
       "      <td>0.525365</td>\n",
       "      <td>11</td>\n",
       "      <td>1.0</td>\n",
       "      <td>1</td>\n",
       "      <td>2.0</td>\n",
       "      <td>1</td>\n",
       "      <td>19</td>\n",
       "      <td>0</td>\n",
       "    </tr>\n",
       "    <tr>\n",
       "      <th>2</th>\n",
       "      <td>2</td>\n",
       "      <td>5</td>\n",
       "      <td>9</td>\n",
       "      <td>0</td>\n",
       "      <td>0</td>\n",
       "      <td>1</td>\n",
       "      <td>0</td>\n",
       "      <td>0</td>\n",
       "      <td>0</td>\n",
       "      <td>0</td>\n",
       "      <td>...</td>\n",
       "      <td>0.601744</td>\n",
       "      <td>0</td>\n",
       "      <td>0.525365</td>\n",
       "      <td>14</td>\n",
       "      <td>1.0</td>\n",
       "      <td>1</td>\n",
       "      <td>2.0</td>\n",
       "      <td>1</td>\n",
       "      <td>60</td>\n",
       "      <td>0</td>\n",
       "    </tr>\n",
       "    <tr>\n",
       "      <th>3</th>\n",
       "      <td>3</td>\n",
       "      <td>0</td>\n",
       "      <td>2</td>\n",
       "      <td>1</td>\n",
       "      <td>0</td>\n",
       "      <td>0</td>\n",
       "      <td>0</td>\n",
       "      <td>0</td>\n",
       "      <td>0</td>\n",
       "      <td>0</td>\n",
       "      <td>...</td>\n",
       "      <td>0.000000</td>\n",
       "      <td>0</td>\n",
       "      <td>1.000000</td>\n",
       "      <td>11</td>\n",
       "      <td>1.0</td>\n",
       "      <td>1</td>\n",
       "      <td>3.0</td>\n",
       "      <td>1</td>\n",
       "      <td>104</td>\n",
       "      <td>0</td>\n",
       "    </tr>\n",
       "    <tr>\n",
       "      <th>4</th>\n",
       "      <td>4</td>\n",
       "      <td>0</td>\n",
       "      <td>0</td>\n",
       "      <td>1</td>\n",
       "      <td>0</td>\n",
       "      <td>0</td>\n",
       "      <td>0</td>\n",
       "      <td>0</td>\n",
       "      <td>0</td>\n",
       "      <td>0</td>\n",
       "      <td>...</td>\n",
       "      <td>0.601744</td>\n",
       "      <td>0</td>\n",
       "      <td>0.525365</td>\n",
       "      <td>14</td>\n",
       "      <td>1.0</td>\n",
       "      <td>1</td>\n",
       "      <td>2.0</td>\n",
       "      <td>1</td>\n",
       "      <td>82</td>\n",
       "      <td>0</td>\n",
       "    </tr>\n",
       "    <tr>\n",
       "      <th>5</th>\n",
       "      <td>5</td>\n",
       "      <td>5</td>\n",
       "      <td>4</td>\n",
       "      <td>0</td>\n",
       "      <td>0</td>\n",
       "      <td>0</td>\n",
       "      <td>1</td>\n",
       "      <td>0</td>\n",
       "      <td>0</td>\n",
       "      <td>0</td>\n",
       "      <td>...</td>\n",
       "      <td>0.601744</td>\n",
       "      <td>0</td>\n",
       "      <td>0.000000</td>\n",
       "      <td>14</td>\n",
       "      <td>1.0</td>\n",
       "      <td>1</td>\n",
       "      <td>0.0</td>\n",
       "      <td>1</td>\n",
       "      <td>104</td>\n",
       "      <td>0</td>\n",
       "    </tr>\n",
       "  </tbody>\n",
       "</table>\n",
       "<p>5 rows × 58 columns</p>\n",
       "</div>"
      ],
      "text/plain": [
       "   id  num1  num2  num3  num4  num5  num6  num7  num8  num9   ...        cat6  \\\n",
       "1   1     1     7     0     0     1     0     0     0     0   ...    0.601744   \n",
       "2   2     5     9     0     0     1     0     0     0     0   ...    0.601744   \n",
       "3   3     0     2     1     0     0     0     0     0     0   ...    0.000000   \n",
       "4   4     0     0     1     0     0     0     0     0     0   ...    0.601744   \n",
       "5   5     5     4     0     0     0     1     0     0     0   ...    0.601744   \n",
       "\n",
       "   cat7      cat8  cat9  cat10  cat11  cat12  cat13  cat14  target  \n",
       "1     0  0.525365    11    1.0      1    2.0      1     19       0  \n",
       "2     0  0.525365    14    1.0      1    2.0      1     60       0  \n",
       "3     0  1.000000    11    1.0      1    3.0      1    104       0  \n",
       "4     0  0.525365    14    1.0      1    2.0      1     82       0  \n",
       "5     0  0.000000    14    1.0      1    0.0      1    104       0  \n",
       "\n",
       "[5 rows x 58 columns]"
      ]
     },
     "execution_count": 280,
     "metadata": {},
     "output_type": "execute_result"
    }
   ],
   "source": [
    "train_data.head()"
   ]
  },
  {
   "cell_type": "markdown",
   "metadata": {},
   "source": [
    "# splitting the training data into X and Y\n",
    "\n",
    "X contain the training features while Y contain target"
   ]
  },
  {
   "cell_type": "code",
   "execution_count": 281,
   "metadata": {},
   "outputs": [],
   "source": [
    "X=train_data.iloc[:,:57]"
   ]
  },
  {
   "cell_type": "code",
   "execution_count": 282,
   "metadata": {},
   "outputs": [],
   "source": [
    "Y=train_data.iloc[:,57]"
   ]
  },
  {
   "cell_type": "code",
   "execution_count": 283,
   "metadata": {},
   "outputs": [
    {
     "data": {
      "text/plain": [
       "1         0\n",
       "2         0\n",
       "3         0\n",
       "4         0\n",
       "5         0\n",
       "6         0\n",
       "7         0\n",
       "8         0\n",
       "9         1\n",
       "10        0\n",
       "11        0\n",
       "12        0\n",
       "13        0\n",
       "14        0\n",
       "15        0\n",
       "16        0\n",
       "17        0\n",
       "18        0\n",
       "19        1\n",
       "20        0\n",
       "21        0\n",
       "22        0\n",
       "23        0\n",
       "24        0\n",
       "25        0\n",
       "26        0\n",
       "27        0\n",
       "28        1\n",
       "29        0\n",
       "30        0\n",
       "         ..\n",
       "595970    0\n",
       "595971    0\n",
       "595972    0\n",
       "595973    0\n",
       "595974    0\n",
       "595975    0\n",
       "595976    0\n",
       "595977    0\n",
       "595978    0\n",
       "595979    0\n",
       "595980    0\n",
       "595981    0\n",
       "595982    0\n",
       "595983    0\n",
       "595984    0\n",
       "595985    0\n",
       "595986    0\n",
       "595987    0\n",
       "595988    0\n",
       "595989    0\n",
       "595990    0\n",
       "595991    0\n",
       "595992    0\n",
       "595993    0\n",
       "595994    0\n",
       "595995    0\n",
       "595996    0\n",
       "595997    0\n",
       "595998    0\n",
       "595999    0\n",
       "Name: target, Length: 595999, dtype: int64"
      ]
     },
     "execution_count": 283,
     "metadata": {},
     "output_type": "execute_result"
    }
   ],
   "source": [
    "Y"
   ]
  },
  {
   "cell_type": "code",
   "execution_count": 284,
   "metadata": {},
   "outputs": [
    {
     "data": {
      "text/html": [
       "<div>\n",
       "<style scoped>\n",
       "    .dataframe tbody tr th:only-of-type {\n",
       "        vertical-align: middle;\n",
       "    }\n",
       "\n",
       "    .dataframe tbody tr th {\n",
       "        vertical-align: top;\n",
       "    }\n",
       "\n",
       "    .dataframe thead th {\n",
       "        text-align: right;\n",
       "    }\n",
       "</style>\n",
       "<table border=\"1\" class=\"dataframe\">\n",
       "  <thead>\n",
       "    <tr style=\"text-align: right;\">\n",
       "      <th></th>\n",
       "      <th>id</th>\n",
       "      <th>num1</th>\n",
       "      <th>num2</th>\n",
       "      <th>num3</th>\n",
       "      <th>num4</th>\n",
       "      <th>num5</th>\n",
       "      <th>num6</th>\n",
       "      <th>num7</th>\n",
       "      <th>num8</th>\n",
       "      <th>num9</th>\n",
       "      <th>...</th>\n",
       "      <th>cat5</th>\n",
       "      <th>cat6</th>\n",
       "      <th>cat7</th>\n",
       "      <th>cat8</th>\n",
       "      <th>cat9</th>\n",
       "      <th>cat10</th>\n",
       "      <th>cat11</th>\n",
       "      <th>cat12</th>\n",
       "      <th>cat13</th>\n",
       "      <th>cat14</th>\n",
       "    </tr>\n",
       "  </thead>\n",
       "  <tbody>\n",
       "    <tr>\n",
       "      <th>1</th>\n",
       "      <td>1</td>\n",
       "      <td>1</td>\n",
       "      <td>7</td>\n",
       "      <td>0</td>\n",
       "      <td>0</td>\n",
       "      <td>1</td>\n",
       "      <td>0</td>\n",
       "      <td>0</td>\n",
       "      <td>0</td>\n",
       "      <td>0</td>\n",
       "      <td>...</td>\n",
       "      <td>1.0</td>\n",
       "      <td>0.601744</td>\n",
       "      <td>0</td>\n",
       "      <td>0.525365</td>\n",
       "      <td>11</td>\n",
       "      <td>1.0</td>\n",
       "      <td>1</td>\n",
       "      <td>2.0</td>\n",
       "      <td>1</td>\n",
       "      <td>19</td>\n",
       "    </tr>\n",
       "    <tr>\n",
       "      <th>2</th>\n",
       "      <td>2</td>\n",
       "      <td>5</td>\n",
       "      <td>9</td>\n",
       "      <td>0</td>\n",
       "      <td>0</td>\n",
       "      <td>1</td>\n",
       "      <td>0</td>\n",
       "      <td>0</td>\n",
       "      <td>0</td>\n",
       "      <td>0</td>\n",
       "      <td>...</td>\n",
       "      <td>1.0</td>\n",
       "      <td>0.601744</td>\n",
       "      <td>0</td>\n",
       "      <td>0.525365</td>\n",
       "      <td>14</td>\n",
       "      <td>1.0</td>\n",
       "      <td>1</td>\n",
       "      <td>2.0</td>\n",
       "      <td>1</td>\n",
       "      <td>60</td>\n",
       "    </tr>\n",
       "    <tr>\n",
       "      <th>3</th>\n",
       "      <td>3</td>\n",
       "      <td>0</td>\n",
       "      <td>2</td>\n",
       "      <td>1</td>\n",
       "      <td>0</td>\n",
       "      <td>0</td>\n",
       "      <td>0</td>\n",
       "      <td>0</td>\n",
       "      <td>0</td>\n",
       "      <td>0</td>\n",
       "      <td>...</td>\n",
       "      <td>1.0</td>\n",
       "      <td>0.000000</td>\n",
       "      <td>0</td>\n",
       "      <td>1.000000</td>\n",
       "      <td>11</td>\n",
       "      <td>1.0</td>\n",
       "      <td>1</td>\n",
       "      <td>3.0</td>\n",
       "      <td>1</td>\n",
       "      <td>104</td>\n",
       "    </tr>\n",
       "    <tr>\n",
       "      <th>4</th>\n",
       "      <td>4</td>\n",
       "      <td>0</td>\n",
       "      <td>0</td>\n",
       "      <td>1</td>\n",
       "      <td>0</td>\n",
       "      <td>0</td>\n",
       "      <td>0</td>\n",
       "      <td>0</td>\n",
       "      <td>0</td>\n",
       "      <td>0</td>\n",
       "      <td>...</td>\n",
       "      <td>1.0</td>\n",
       "      <td>0.601744</td>\n",
       "      <td>0</td>\n",
       "      <td>0.525365</td>\n",
       "      <td>14</td>\n",
       "      <td>1.0</td>\n",
       "      <td>1</td>\n",
       "      <td>2.0</td>\n",
       "      <td>1</td>\n",
       "      <td>82</td>\n",
       "    </tr>\n",
       "    <tr>\n",
       "      <th>5</th>\n",
       "      <td>5</td>\n",
       "      <td>5</td>\n",
       "      <td>4</td>\n",
       "      <td>0</td>\n",
       "      <td>0</td>\n",
       "      <td>0</td>\n",
       "      <td>1</td>\n",
       "      <td>0</td>\n",
       "      <td>0</td>\n",
       "      <td>0</td>\n",
       "      <td>...</td>\n",
       "      <td>0.0</td>\n",
       "      <td>0.601744</td>\n",
       "      <td>0</td>\n",
       "      <td>0.000000</td>\n",
       "      <td>14</td>\n",
       "      <td>1.0</td>\n",
       "      <td>1</td>\n",
       "      <td>0.0</td>\n",
       "      <td>1</td>\n",
       "      <td>104</td>\n",
       "    </tr>\n",
       "  </tbody>\n",
       "</table>\n",
       "<p>5 rows × 57 columns</p>\n",
       "</div>"
      ],
      "text/plain": [
       "   id  num1  num2  num3  num4  num5  num6  num7  num8  num9  ...    cat5  \\\n",
       "1   1     1     7     0     0     1     0     0     0     0  ...     1.0   \n",
       "2   2     5     9     0     0     1     0     0     0     0  ...     1.0   \n",
       "3   3     0     2     1     0     0     0     0     0     0  ...     1.0   \n",
       "4   4     0     0     1     0     0     0     0     0     0  ...     1.0   \n",
       "5   5     5     4     0     0     0     1     0     0     0  ...     0.0   \n",
       "\n",
       "       cat6  cat7      cat8  cat9  cat10  cat11  cat12  cat13  cat14  \n",
       "1  0.601744     0  0.525365    11    1.0      1    2.0      1     19  \n",
       "2  0.601744     0  0.525365    14    1.0      1    2.0      1     60  \n",
       "3  0.000000     0  1.000000    11    1.0      1    3.0      1    104  \n",
       "4  0.601744     0  0.525365    14    1.0      1    2.0      1     82  \n",
       "5  0.601744     0  0.000000    14    1.0      1    0.0      1    104  \n",
       "\n",
       "[5 rows x 57 columns]"
      ]
     },
     "execution_count": 284,
     "metadata": {},
     "output_type": "execute_result"
    }
   ],
   "source": [
    "X.head()"
   ]
  },
  {
   "cell_type": "markdown",
   "metadata": {},
   "source": [
    "# applying pca on the training data\n",
    "\n",
    "as the datset contain lots of correlated data in it. \n",
    "so to reduce the dimentionality of data i have applies pca on it.\n",
    "\n",
    "kept variance is 0.99"
   ]
  },
  {
   "cell_type": "code",
   "execution_count": 285,
   "metadata": {},
   "outputs": [],
   "source": [
    "from sklearn.decomposition import PCA \n",
    "pca=PCA()"
   ]
  },
  {
   "cell_type": "code",
   "execution_count": 286,
   "metadata": {},
   "outputs": [],
   "source": [
    "X_transform=pca.fit_transform(X)"
   ]
  },
  {
   "cell_type": "code",
   "execution_count": 287,
   "metadata": {},
   "outputs": [
    {
     "data": {
      "text/plain": [
       "1"
      ]
     },
     "execution_count": 287,
     "metadata": {},
     "output_type": "execute_result"
    }
   ],
   "source": [
    "k=0\n",
    "current_variance=0\n",
    "total=sum(pca.explained_variance_)\n",
    "\n",
    "while current_variance/total<=0.99:\n",
    "  current_variance += pca.explained_variance_[k]\n",
    "  k=k+1\n",
    "k  "
   ]
  },
  {
   "cell_type": "markdown",
   "metadata": {},
   "source": [
    "if i kept explained vaiance =0.99 than dimention can be reduced to 1, only 1 eigen vector is able to explaine 99% of the information\n",
    "that reduced the dimensions a lot"
   ]
  },
  {
   "cell_type": "code",
   "execution_count": 288,
   "metadata": {},
   "outputs": [],
   "source": [
    "pca=PCA(n_components=k,whiten=True)\n",
    "X=pca.fit_transform(X)"
   ]
  },
  {
   "cell_type": "code",
   "execution_count": 289,
   "metadata": {},
   "outputs": [
    {
     "data": {
      "text/plain": [
       "array([[ 1.73204645],\n",
       "       [ 1.73204064],\n",
       "       [ 1.73203482],\n",
       "       ...,\n",
       "       [-1.73203482],\n",
       "       [-1.73204064],\n",
       "       [-1.73204645]])"
      ]
     },
     "execution_count": 289,
     "metadata": {},
     "output_type": "execute_result"
    }
   ],
   "source": [
    "X"
   ]
  },
  {
   "cell_type": "code",
   "execution_count": 290,
   "metadata": {},
   "outputs": [],
   "source": [
    "from sklearn.metrics import classification_report,confusion_matrix\n",
    "from sklearn.model_selection import train_test_split"
   ]
  },
  {
   "cell_type": "code",
   "execution_count": 293,
   "metadata": {},
   "outputs": [],
   "source": [
    "#-- splitting training data  further into training  and testing so that i can evaluate which algrithm will work better or for comaprision\n",
    "\n",
    "x_train,x_test,y_train,y_test=train_test_split(X,Y)"
   ]
  },
  {
   "cell_type": "code",
   "execution_count": 294,
   "metadata": {},
   "outputs": [
    {
     "data": {
      "text/plain": [
       "(149000, 1)"
      ]
     },
     "execution_count": 294,
     "metadata": {},
     "output_type": "execute_result"
    }
   ],
   "source": [
    "x_test.shape"
   ]
  },
  {
   "cell_type": "markdown",
   "metadata": {},
   "source": [
    "# importing random forest"
   ]
  },
  {
   "cell_type": "code",
   "execution_count": 301,
   "metadata": {},
   "outputs": [],
   "source": [
    "from sklearn.ensemble import RandomForestClassifier"
   ]
  },
  {
   "cell_type": "code",
   "execution_count": 302,
   "metadata": {},
   "outputs": [],
   "source": [
    "rf= RandomForestClassifier()"
   ]
  },
  {
   "cell_type": "code",
   "execution_count": 303,
   "metadata": {},
   "outputs": [
    {
     "data": {
      "text/plain": [
       "RandomForestClassifier(bootstrap=True, class_weight=None, criterion='gini',\n",
       "            max_depth=None, max_features='auto', max_leaf_nodes=None,\n",
       "            min_impurity_decrease=0.0, min_impurity_split=None,\n",
       "            min_samples_leaf=1, min_samples_split=2,\n",
       "            min_weight_fraction_leaf=0.0, n_estimators=10, n_jobs=1,\n",
       "            oob_score=False, random_state=None, verbose=0,\n",
       "            warm_start=False)"
      ]
     },
     "execution_count": 303,
     "metadata": {},
     "output_type": "execute_result"
    }
   ],
   "source": [
    "rf.fit(x_train,y_train)"
   ]
  },
  {
   "cell_type": "code",
   "execution_count": 304,
   "metadata": {},
   "outputs": [],
   "source": [
    "rf_pred=rf.predict(x_test)"
   ]
  },
  {
   "cell_type": "markdown",
   "metadata": {},
   "source": [
    "# checking for the precision and recall "
   ]
  },
  {
   "cell_type": "code",
   "execution_count": 305,
   "metadata": {},
   "outputs": [
    {
     "name": "stdout",
     "output_type": "stream",
     "text": [
      "             precision    recall  f1-score   support\n",
      "\n",
      "          0       0.96      0.97      0.97    143615\n",
      "          1       0.03      0.03      0.03      5385\n",
      "\n",
      "avg / total       0.93      0.94      0.93    149000\n",
      "\n"
     ]
    }
   ],
   "source": [
    "print(classification_report(y_test,rf_pred))"
   ]
  },
  {
   "cell_type": "code",
   "execution_count": 306,
   "metadata": {},
   "outputs": [
    {
     "data": {
      "text/plain": [
       "array([[139661,   5243],\n",
       "       [  3954,    142]], dtype=int64)"
      ]
     },
     "execution_count": 306,
     "metadata": {},
     "output_type": "execute_result"
    }
   ],
   "source": [
    "# analysing confusion matrix\n",
    "\n",
    "confusion_matrix(rf_pred,y_test)"
   ]
  },
  {
   "cell_type": "code",
   "execution_count": 337,
   "metadata": {},
   "outputs": [
    {
     "data": {
      "text/plain": [
       "5385"
      ]
     },
     "execution_count": 337,
     "metadata": {},
     "output_type": "execute_result"
    }
   ],
   "source": [
    "(y_test==1).sum()"
   ]
  },
  {
   "cell_type": "code",
   "execution_count": 307,
   "metadata": {},
   "outputs": [
    {
     "data": {
      "text/plain": [
       "4096"
      ]
     },
     "execution_count": 307,
     "metadata": {},
     "output_type": "execute_result"
    }
   ],
   "source": [
    "(rf_pred==1).sum()"
   ]
  },
  {
   "cell_type": "markdown",
   "metadata": {},
   "source": [
    "# applying decision tree on the dummy training testing data that i have created\n",
    "\n",
    "i tried two more classification algorithm like logistic regression they havent perform better than these two"
   ]
  },
  {
   "cell_type": "code",
   "execution_count": 309,
   "metadata": {},
   "outputs": [],
   "source": [
    "from sklearn.tree import DecisionTreeClassifier"
   ]
  },
  {
   "cell_type": "code",
   "execution_count": 310,
   "metadata": {},
   "outputs": [],
   "source": [
    "dt=DecisionTreeClassifier()"
   ]
  },
  {
   "cell_type": "code",
   "execution_count": 311,
   "metadata": {},
   "outputs": [],
   "source": [
    "dt.fit(x_train,y_train)\n",
    "dt_pred=dt.predict(x_test)"
   ]
  },
  {
   "cell_type": "code",
   "execution_count": 312,
   "metadata": {},
   "outputs": [
    {
     "name": "stdout",
     "output_type": "stream",
     "text": [
      "             precision    recall  f1-score   support\n",
      "\n",
      "          0       0.96      0.96      0.96    143615\n",
      "          1       0.03      0.03      0.03      5385\n",
      "\n",
      "avg / total       0.93      0.93      0.93    149000\n",
      "\n"
     ]
    }
   ],
   "source": [
    "print(classification_report(y_test,dt_pred))"
   ]
  },
  {
   "cell_type": "code",
   "execution_count": 313,
   "metadata": {},
   "outputs": [
    {
     "data": {
      "text/plain": [
       "array([[138337,   5201],\n",
       "       [  5278,    184]], dtype=int64)"
      ]
     },
     "execution_count": 313,
     "metadata": {},
     "output_type": "execute_result"
    }
   ],
   "source": [
    "confusion_matrix(dt_pred,y_test)"
   ]
  },
  {
   "cell_type": "code",
   "execution_count": 314,
   "metadata": {},
   "outputs": [
    {
     "data": {
      "text/plain": [
       "5385"
      ]
     },
     "execution_count": 314,
     "metadata": {},
     "output_type": "execute_result"
    }
   ],
   "source": [
    "(y_test==1).sum()"
   ]
  },
  {
   "cell_type": "code",
   "execution_count": 315,
   "metadata": {},
   "outputs": [
    {
     "data": {
      "text/plain": [
       "5462"
      ]
     },
     "execution_count": 315,
     "metadata": {},
     "output_type": "execute_result"
    }
   ],
   "source": [
    "(dt_pred==1).sum()"
   ]
  },
  {
   "cell_type": "markdown",
   "metadata": {},
   "source": [
    "# both decision tree and random forest perform good on the dataset that i have created"
   ]
  },
  {
   "cell_type": "code",
   "execution_count": null,
   "metadata": {},
   "outputs": [],
   "source": []
  },
  {
   "cell_type": "markdown",
   "metadata": {},
   "source": [
    "# importing testing data"
   ]
  },
  {
   "cell_type": "code",
   "execution_count": 258,
   "metadata": {},
   "outputs": [],
   "source": [
    "test_data=pd.read_csv(\"data_test.csv\",delimiter=\",\")"
   ]
  },
  {
   "cell_type": "code",
   "execution_count": 262,
   "metadata": {},
   "outputs": [
    {
     "data": {
      "text/html": [
       "<div>\n",
       "<style scoped>\n",
       "    .dataframe tbody tr th:only-of-type {\n",
       "        vertical-align: middle;\n",
       "    }\n",
       "\n",
       "    .dataframe tbody tr th {\n",
       "        vertical-align: top;\n",
       "    }\n",
       "\n",
       "    .dataframe thead th {\n",
       "        text-align: right;\n",
       "    }\n",
       "</style>\n",
       "<table border=\"1\" class=\"dataframe\">\n",
       "  <thead>\n",
       "    <tr style=\"text-align: right;\">\n",
       "      <th></th>\n",
       "      <th>id</th>\n",
       "      <th>num1</th>\n",
       "      <th>num2</th>\n",
       "      <th>num3</th>\n",
       "      <th>num4</th>\n",
       "      <th>num5</th>\n",
       "      <th>num6</th>\n",
       "      <th>num7</th>\n",
       "      <th>num8</th>\n",
       "      <th>num9</th>\n",
       "      <th>...</th>\n",
       "      <th>cat5</th>\n",
       "      <th>cat6</th>\n",
       "      <th>cat7</th>\n",
       "      <th>cat8</th>\n",
       "      <th>cat9</th>\n",
       "      <th>cat10</th>\n",
       "      <th>cat11</th>\n",
       "      <th>cat12</th>\n",
       "      <th>cat13</th>\n",
       "      <th>cat14</th>\n",
       "    </tr>\n",
       "  </thead>\n",
       "  <tbody>\n",
       "    <tr>\n",
       "      <th>count</th>\n",
       "      <td>8.928160e+05</td>\n",
       "      <td>892816.000000</td>\n",
       "      <td>892816.000000</td>\n",
       "      <td>892816.000000</td>\n",
       "      <td>892816.000000</td>\n",
       "      <td>892816.000000</td>\n",
       "      <td>892816.000000</td>\n",
       "      <td>892816.000000</td>\n",
       "      <td>892816.000000</td>\n",
       "      <td>892816.000000</td>\n",
       "      <td>...</td>\n",
       "      <td>892811.000000</td>\n",
       "      <td>275905.000000</td>\n",
       "      <td>892816.000000</td>\n",
       "      <td>492457.000000</td>\n",
       "      <td>892816.000000</td>\n",
       "      <td>875485.000000</td>\n",
       "      <td>892816.000000</td>\n",
       "      <td>891939.000000</td>\n",
       "      <td>892816.000000</td>\n",
       "      <td>892816.000000</td>\n",
       "    </tr>\n",
       "    <tr>\n",
       "      <th>mean</th>\n",
       "      <td>7.441535e+05</td>\n",
       "      <td>1.902371</td>\n",
       "      <td>4.413734</td>\n",
       "      <td>0.393246</td>\n",
       "      <td>0.257191</td>\n",
       "      <td>0.163659</td>\n",
       "      <td>0.185905</td>\n",
       "      <td>0.000373</td>\n",
       "      <td>0.001595</td>\n",
       "      <td>0.009376</td>\n",
       "      <td>...</td>\n",
       "      <td>0.829951</td>\n",
       "      <td>0.602138</td>\n",
       "      <td>0.725798</td>\n",
       "      <td>0.525717</td>\n",
       "      <td>6.564297</td>\n",
       "      <td>0.947957</td>\n",
       "      <td>0.832311</td>\n",
       "      <td>1.330200</td>\n",
       "      <td>0.992134</td>\n",
       "      <td>62.284293</td>\n",
       "    </tr>\n",
       "    <tr>\n",
       "      <th>std</th>\n",
       "      <td>4.296830e+05</td>\n",
       "      <td>1.986503</td>\n",
       "      <td>2.700149</td>\n",
       "      <td>0.488471</td>\n",
       "      <td>0.437086</td>\n",
       "      <td>0.369966</td>\n",
       "      <td>0.389030</td>\n",
       "      <td>0.019309</td>\n",
       "      <td>0.039905</td>\n",
       "      <td>0.096375</td>\n",
       "      <td>...</td>\n",
       "      <td>0.375676</td>\n",
       "      <td>0.489457</td>\n",
       "      <td>2.154886</td>\n",
       "      <td>0.499339</td>\n",
       "      <td>5.500485</td>\n",
       "      <td>0.222114</td>\n",
       "      <td>0.373590</td>\n",
       "      <td>0.976495</td>\n",
       "      <td>0.091530</td>\n",
       "      <td>33.003714</td>\n",
       "    </tr>\n",
       "    <tr>\n",
       "      <th>min</th>\n",
       "      <td>0.000000e+00</td>\n",
       "      <td>0.000000</td>\n",
       "      <td>0.000000</td>\n",
       "      <td>0.000000</td>\n",
       "      <td>0.000000</td>\n",
       "      <td>0.000000</td>\n",
       "      <td>0.000000</td>\n",
       "      <td>0.000000</td>\n",
       "      <td>0.000000</td>\n",
       "      <td>0.000000</td>\n",
       "      <td>...</td>\n",
       "      <td>0.000000</td>\n",
       "      <td>0.000000</td>\n",
       "      <td>0.000000</td>\n",
       "      <td>0.000000</td>\n",
       "      <td>0.000000</td>\n",
       "      <td>0.000000</td>\n",
       "      <td>0.000000</td>\n",
       "      <td>0.000000</td>\n",
       "      <td>0.000000</td>\n",
       "      <td>1.000000</td>\n",
       "    </tr>\n",
       "    <tr>\n",
       "      <th>25%</th>\n",
       "      <td>3.720218e+05</td>\n",
       "      <td>0.000000</td>\n",
       "      <td>2.000000</td>\n",
       "      <td>0.000000</td>\n",
       "      <td>0.000000</td>\n",
       "      <td>0.000000</td>\n",
       "      <td>0.000000</td>\n",
       "      <td>0.000000</td>\n",
       "      <td>0.000000</td>\n",
       "      <td>0.000000</td>\n",
       "      <td>...</td>\n",
       "      <td>1.000000</td>\n",
       "      <td>0.000000</td>\n",
       "      <td>0.000000</td>\n",
       "      <td>0.000000</td>\n",
       "      <td>1.000000</td>\n",
       "      <td>1.000000</td>\n",
       "      <td>1.000000</td>\n",
       "      <td>0.000000</td>\n",
       "      <td>1.000000</td>\n",
       "      <td>32.000000</td>\n",
       "    </tr>\n",
       "    <tr>\n",
       "      <th>50%</th>\n",
       "      <td>7.443070e+05</td>\n",
       "      <td>1.000000</td>\n",
       "      <td>4.000000</td>\n",
       "      <td>0.000000</td>\n",
       "      <td>0.000000</td>\n",
       "      <td>0.000000</td>\n",
       "      <td>0.000000</td>\n",
       "      <td>0.000000</td>\n",
       "      <td>0.000000</td>\n",
       "      <td>0.000000</td>\n",
       "      <td>...</td>\n",
       "      <td>1.000000</td>\n",
       "      <td>1.000000</td>\n",
       "      <td>0.000000</td>\n",
       "      <td>1.000000</td>\n",
       "      <td>7.000000</td>\n",
       "      <td>1.000000</td>\n",
       "      <td>1.000000</td>\n",
       "      <td>2.000000</td>\n",
       "      <td>1.000000</td>\n",
       "      <td>65.000000</td>\n",
       "    </tr>\n",
       "    <tr>\n",
       "      <th>75%</th>\n",
       "      <td>1.116308e+06</td>\n",
       "      <td>3.000000</td>\n",
       "      <td>6.000000</td>\n",
       "      <td>1.000000</td>\n",
       "      <td>1.000000</td>\n",
       "      <td>0.000000</td>\n",
       "      <td>0.000000</td>\n",
       "      <td>0.000000</td>\n",
       "      <td>0.000000</td>\n",
       "      <td>0.000000</td>\n",
       "      <td>...</td>\n",
       "      <td>1.000000</td>\n",
       "      <td>1.000000</td>\n",
       "      <td>0.000000</td>\n",
       "      <td>1.000000</td>\n",
       "      <td>11.000000</td>\n",
       "      <td>1.000000</td>\n",
       "      <td>1.000000</td>\n",
       "      <td>2.000000</td>\n",
       "      <td>1.000000</td>\n",
       "      <td>94.000000</td>\n",
       "    </tr>\n",
       "    <tr>\n",
       "      <th>max</th>\n",
       "      <td>1.488026e+06</td>\n",
       "      <td>7.000000</td>\n",
       "      <td>11.000000</td>\n",
       "      <td>1.000000</td>\n",
       "      <td>1.000000</td>\n",
       "      <td>1.000000</td>\n",
       "      <td>1.000000</td>\n",
       "      <td>1.000000</td>\n",
       "      <td>1.000000</td>\n",
       "      <td>1.000000</td>\n",
       "      <td>...</td>\n",
       "      <td>1.000000</td>\n",
       "      <td>1.000000</td>\n",
       "      <td>9.000000</td>\n",
       "      <td>1.000000</td>\n",
       "      <td>17.000000</td>\n",
       "      <td>1.000000</td>\n",
       "      <td>1.000000</td>\n",
       "      <td>4.000000</td>\n",
       "      <td>2.000000</td>\n",
       "      <td>104.000000</td>\n",
       "    </tr>\n",
       "  </tbody>\n",
       "</table>\n",
       "<p>8 rows × 57 columns</p>\n",
       "</div>"
      ],
      "text/plain": [
       "                 id           num1           num2           num3  \\\n",
       "count  8.928160e+05  892816.000000  892816.000000  892816.000000   \n",
       "mean   7.441535e+05       1.902371       4.413734       0.393246   \n",
       "std    4.296830e+05       1.986503       2.700149       0.488471   \n",
       "min    0.000000e+00       0.000000       0.000000       0.000000   \n",
       "25%    3.720218e+05       0.000000       2.000000       0.000000   \n",
       "50%    7.443070e+05       1.000000       4.000000       0.000000   \n",
       "75%    1.116308e+06       3.000000       6.000000       1.000000   \n",
       "max    1.488026e+06       7.000000      11.000000       1.000000   \n",
       "\n",
       "                num4           num5           num6           num7  \\\n",
       "count  892816.000000  892816.000000  892816.000000  892816.000000   \n",
       "mean        0.257191       0.163659       0.185905       0.000373   \n",
       "std         0.437086       0.369966       0.389030       0.019309   \n",
       "min         0.000000       0.000000       0.000000       0.000000   \n",
       "25%         0.000000       0.000000       0.000000       0.000000   \n",
       "50%         0.000000       0.000000       0.000000       0.000000   \n",
       "75%         1.000000       0.000000       0.000000       0.000000   \n",
       "max         1.000000       1.000000       1.000000       1.000000   \n",
       "\n",
       "                num8           num9      ...                 cat5  \\\n",
       "count  892816.000000  892816.000000      ...        892811.000000   \n",
       "mean        0.001595       0.009376      ...             0.829951   \n",
       "std         0.039905       0.096375      ...             0.375676   \n",
       "min         0.000000       0.000000      ...             0.000000   \n",
       "25%         0.000000       0.000000      ...             1.000000   \n",
       "50%         0.000000       0.000000      ...             1.000000   \n",
       "75%         0.000000       0.000000      ...             1.000000   \n",
       "max         1.000000       1.000000      ...             1.000000   \n",
       "\n",
       "                cat6           cat7           cat8           cat9  \\\n",
       "count  275905.000000  892816.000000  492457.000000  892816.000000   \n",
       "mean        0.602138       0.725798       0.525717       6.564297   \n",
       "std         0.489457       2.154886       0.499339       5.500485   \n",
       "min         0.000000       0.000000       0.000000       0.000000   \n",
       "25%         0.000000       0.000000       0.000000       1.000000   \n",
       "50%         1.000000       0.000000       1.000000       7.000000   \n",
       "75%         1.000000       0.000000       1.000000      11.000000   \n",
       "max         1.000000       9.000000       1.000000      17.000000   \n",
       "\n",
       "               cat10          cat11          cat12          cat13  \\\n",
       "count  875485.000000  892816.000000  891939.000000  892816.000000   \n",
       "mean        0.947957       0.832311       1.330200       0.992134   \n",
       "std         0.222114       0.373590       0.976495       0.091530   \n",
       "min         0.000000       0.000000       0.000000       0.000000   \n",
       "25%         1.000000       1.000000       0.000000       1.000000   \n",
       "50%         1.000000       1.000000       2.000000       1.000000   \n",
       "75%         1.000000       1.000000       2.000000       1.000000   \n",
       "max         1.000000       1.000000       4.000000       2.000000   \n",
       "\n",
       "               cat14  \n",
       "count  892816.000000  \n",
       "mean       62.284293  \n",
       "std        33.003714  \n",
       "min         1.000000  \n",
       "25%        32.000000  \n",
       "50%        65.000000  \n",
       "75%        94.000000  \n",
       "max       104.000000  \n",
       "\n",
       "[8 rows x 57 columns]"
      ]
     },
     "execution_count": 262,
     "metadata": {},
     "output_type": "execute_result"
    }
   ],
   "source": [
    "# analysing the testing data\n",
    "\n",
    "test_data.describe()"
   ]
  },
  {
   "cell_type": "code",
   "execution_count": 263,
   "metadata": {},
   "outputs": [
    {
     "data": {
      "text/plain": [
       "id            0\n",
       "num1          0\n",
       "num2          0\n",
       "num3          0\n",
       "num4          0\n",
       "num5          0\n",
       "num6          0\n",
       "num7          0\n",
       "num8          0\n",
       "num9          0\n",
       "num10         0\n",
       "num11         0\n",
       "num12         0\n",
       "num13         0\n",
       "num14         0\n",
       "num15         0\n",
       "num16         0\n",
       "num17         0\n",
       "num18    161684\n",
       "num19         1\n",
       "num20         0\n",
       "num21         0\n",
       "num22     63805\n",
       "num23         0\n",
       "der1          0\n",
       "der2          0\n",
       "der3          0\n",
       "der4          0\n",
       "der5          0\n",
       "der6          0\n",
       "der7          0\n",
       "der8          0\n",
       "der9          0\n",
       "der10         0\n",
       "der11         0\n",
       "der12         0\n",
       "der13         0\n",
       "der14         0\n",
       "der15         0\n",
       "der16         0\n",
       "der17         0\n",
       "der18         0\n",
       "der19         0\n",
       "cat1        307\n",
       "cat2        145\n",
       "cat3       8710\n",
       "cat4        160\n",
       "cat5          5\n",
       "cat6     616911\n",
       "cat7          0\n",
       "cat8     400359\n",
       "cat9          0\n",
       "cat10     17331\n",
       "cat11         0\n",
       "cat12       877\n",
       "cat13         0\n",
       "cat14         0\n",
       "dtype: int64"
      ]
     },
     "execution_count": 263,
     "metadata": {},
     "output_type": "execute_result"
    }
   ],
   "source": [
    "test_data.isnull().sum()"
   ]
  },
  {
   "cell_type": "markdown",
   "metadata": {},
   "source": [
    "# filling null values of testing data with mean\n",
    "\n",
    "testing data also contain null values so i also fill null values of test data with mean of their corresponding feature"
   ]
  },
  {
   "cell_type": "code",
   "execution_count": 318,
   "metadata": {},
   "outputs": [],
   "source": [
    "for i in range(57):\n",
    "    current_mean=test_data.iloc[:,i].mean()\n",
    "    test_data.iloc[:,i].fillna(current_mean,inplace=True)"
   ]
  },
  {
   "cell_type": "code",
   "execution_count": 320,
   "metadata": {},
   "outputs": [
    {
     "data": {
      "text/plain": [
       "id       0\n",
       "num1     0\n",
       "num2     0\n",
       "num3     0\n",
       "num4     0\n",
       "num5     0\n",
       "num6     0\n",
       "num7     0\n",
       "num8     0\n",
       "num9     0\n",
       "num10    0\n",
       "num11    0\n",
       "num12    0\n",
       "num13    0\n",
       "num14    0\n",
       "num15    0\n",
       "num16    0\n",
       "num17    0\n",
       "num18    0\n",
       "num19    0\n",
       "num20    0\n",
       "num21    0\n",
       "num22    0\n",
       "num23    0\n",
       "der1     0\n",
       "der2     0\n",
       "der3     0\n",
       "der4     0\n",
       "der5     0\n",
       "der6     0\n",
       "der7     0\n",
       "der8     0\n",
       "der9     0\n",
       "der10    0\n",
       "der11    0\n",
       "der12    0\n",
       "der13    0\n",
       "der14    0\n",
       "der15    0\n",
       "der16    0\n",
       "der17    0\n",
       "der18    0\n",
       "der19    0\n",
       "cat1     0\n",
       "cat2     0\n",
       "cat3     0\n",
       "cat4     0\n",
       "cat5     0\n",
       "cat6     0\n",
       "cat7     0\n",
       "cat8     0\n",
       "cat9     0\n",
       "cat10    0\n",
       "cat11    0\n",
       "cat12    0\n",
       "cat13    0\n",
       "cat14    0\n",
       "dtype: int64"
      ]
     },
     "execution_count": 320,
     "metadata": {},
     "output_type": "execute_result"
    }
   ],
   "source": [
    "test_data.isnull().sum()"
   ]
  },
  {
   "cell_type": "markdown",
   "metadata": {},
   "source": [
    "# transforming test data according to training data using pca"
   ]
  },
  {
   "cell_type": "code",
   "execution_count": 321,
   "metadata": {},
   "outputs": [],
   "source": [
    "X_test=pca.transform(test_data)"
   ]
  },
  {
   "cell_type": "code",
   "execution_count": 322,
   "metadata": {},
   "outputs": [
    {
     "data": {
      "text/plain": [
       "(892816, 1)"
      ]
     },
     "execution_count": 322,
     "metadata": {},
     "output_type": "execute_result"
    }
   ],
   "source": [
    "X_test.shape"
   ]
  },
  {
   "cell_type": "code",
   "execution_count": 325,
   "metadata": {},
   "outputs": [
    {
     "data": {
      "text/plain": [
       "(595999, 1)"
      ]
     },
     "execution_count": 325,
     "metadata": {},
     "output_type": "execute_result"
    }
   ],
   "source": [
    "X.shape"
   ]
  },
  {
   "cell_type": "markdown",
   "metadata": {},
   "source": [
    "# applying decision tree on testing data and whole training data"
   ]
  },
  {
   "cell_type": "code",
   "execution_count": 324,
   "metadata": {},
   "outputs": [
    {
     "data": {
      "text/plain": [
       "DecisionTreeClassifier(class_weight=None, criterion='gini', max_depth=None,\n",
       "            max_features=None, max_leaf_nodes=None,\n",
       "            min_impurity_decrease=0.0, min_impurity_split=None,\n",
       "            min_samples_leaf=1, min_samples_split=2,\n",
       "            min_weight_fraction_leaf=0.0, presort=False, random_state=None,\n",
       "            splitter='best')"
      ]
     },
     "execution_count": 324,
     "metadata": {},
     "output_type": "execute_result"
    }
   ],
   "source": [
    "dt.fit(X,Y)"
   ]
  },
  {
   "cell_type": "code",
   "execution_count": 326,
   "metadata": {},
   "outputs": [],
   "source": [
    "final_predictions=dt.predict(X_test)"
   ]
  },
  {
   "cell_type": "code",
   "execution_count": 342,
   "metadata": {},
   "outputs": [
    {
     "data": {
      "text/plain": [
       "array([0, 0, 0, ..., 0, 0, 0], dtype=int64)"
      ]
     },
     "execution_count": 342,
     "metadata": {},
     "output_type": "execute_result"
    }
   ],
   "source": [
    "final_predictions"
   ]
  },
  {
   "cell_type": "code",
   "execution_count": 343,
   "metadata": {},
   "outputs": [
    {
     "data": {
      "text/plain": [
       "(892816,)"
      ]
     },
     "execution_count": 343,
     "metadata": {},
     "output_type": "execute_result"
    }
   ],
   "source": [
    "final_predictions.shape"
   ]
  },
  {
   "cell_type": "markdown",
   "metadata": {},
   "source": [
    "# saving predictions into system"
   ]
  },
  {
   "cell_type": "code",
   "execution_count": 347,
   "metadata": {},
   "outputs": [],
   "source": [
    "np.savetxt(\"predictions.csv\",final_predictions,delimiter=',',fmt='%f')"
   ]
  }
 ],
 "metadata": {
  "kernelspec": {
   "display_name": "Python 3",
   "language": "python",
   "name": "python3"
  },
  "language_info": {
   "codemirror_mode": {
    "name": "ipython",
    "version": 3
   },
   "file_extension": ".py",
   "mimetype": "text/x-python",
   "name": "python",
   "nbconvert_exporter": "python",
   "pygments_lexer": "ipython3",
   "version": "3.6.4"
  }
 },
 "nbformat": 4,
 "nbformat_minor": 2
}
